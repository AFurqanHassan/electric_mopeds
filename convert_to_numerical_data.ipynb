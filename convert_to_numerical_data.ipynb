{
 "cells": [
  {
   "cell_type": "code",
   "execution_count": 1,
   "id": "2bee4b56",
   "metadata": {},
   "outputs": [],
   "source": [
    "import pandas as pd\n",
    "from sklearn.preprocessing import LabelEncoder\n",
    "\n"
   ]
  },
  {
   "cell_type": "code",
   "execution_count": 2,
   "id": "6f0756f9",
   "metadata": {},
   "outputs": [
    {
     "data": {
      "text/html": [
       "<div>\n",
       "<style scoped>\n",
       "    .dataframe tbody tr th:only-of-type {\n",
       "        vertical-align: middle;\n",
       "    }\n",
       "\n",
       "    .dataframe tbody tr th {\n",
       "        vertical-align: top;\n",
       "    }\n",
       "\n",
       "    .dataframe thead th {\n",
       "        text-align: right;\n",
       "    }\n",
       "</style>\n",
       "<table border=\"1\" class=\"dataframe\">\n",
       "  <thead>\n",
       "    <tr style=\"text-align: right;\">\n",
       "      <th></th>\n",
       "      <th>owned</th>\n",
       "      <th>make_model</th>\n",
       "      <th>review_month</th>\n",
       "      <th>web_browser</th>\n",
       "      <th>reviewer_age</th>\n",
       "      <th>primary_use</th>\n",
       "      <th>value_for_money</th>\n",
       "      <th>overall_rating</th>\n",
       "    </tr>\n",
       "  </thead>\n",
       "  <tbody>\n",
       "    <tr>\n",
       "      <th>0</th>\n",
       "      <td>1</td>\n",
       "      <td>Nielah-Eyden</td>\n",
       "      <td>Oct</td>\n",
       "      <td>Chrome</td>\n",
       "      <td>23</td>\n",
       "      <td>Commuting</td>\n",
       "      <td>5/10</td>\n",
       "      <td>18.62</td>\n",
       "    </tr>\n",
       "    <tr>\n",
       "      <th>1</th>\n",
       "      <td>0</td>\n",
       "      <td>Nielah-Keetra</td>\n",
       "      <td>Jun</td>\n",
       "      <td>NaN</td>\n",
       "      <td>24</td>\n",
       "      <td>Commuting</td>\n",
       "      <td>4/10</td>\n",
       "      <td>15.55</td>\n",
       "    </tr>\n",
       "    <tr>\n",
       "      <th>2</th>\n",
       "      <td>0</td>\n",
       "      <td>Lunna-Keetra</td>\n",
       "      <td>23-Oct</td>\n",
       "      <td>Chrome</td>\n",
       "      <td>28</td>\n",
       "      <td>Commuting</td>\n",
       "      <td>5/10</td>\n",
       "      <td>12.76</td>\n",
       "    </tr>\n",
       "    <tr>\n",
       "      <th>3</th>\n",
       "      <td>1</td>\n",
       "      <td>Hoang-Keetra</td>\n",
       "      <td>07-Nov</td>\n",
       "      <td>IE</td>\n",
       "      <td>41</td>\n",
       "      <td>Leisure</td>\n",
       "      <td>5/10</td>\n",
       "      <td>17.07</td>\n",
       "    </tr>\n",
       "    <tr>\n",
       "      <th>4</th>\n",
       "      <td>1</td>\n",
       "      <td>Lunna-Keetra</td>\n",
       "      <td>16-Sep</td>\n",
       "      <td>Chrome</td>\n",
       "      <td>33</td>\n",
       "      <td>Leisure</td>\n",
       "      <td>5/10</td>\n",
       "      <td>12.29</td>\n",
       "    </tr>\n",
       "  </tbody>\n",
       "</table>\n",
       "</div>"
      ],
      "text/plain": [
       "   owned     make_model review_month web_browser reviewer_age primary_use  \\\n",
       "0      1   Nielah-Eyden          Oct      Chrome           23   Commuting   \n",
       "1      0  Nielah-Keetra          Jun         NaN           24   Commuting   \n",
       "2      0   Lunna-Keetra       23-Oct      Chrome           28   Commuting   \n",
       "3      1   Hoang-Keetra       07-Nov          IE           41     Leisure   \n",
       "4      1   Lunna-Keetra       16-Sep      Chrome           33     Leisure   \n",
       "\n",
       "  value_for_money  overall_rating  \n",
       "0            5/10           18.62  \n",
       "1            4/10           15.55  \n",
       "2            5/10           12.76  \n",
       "3            5/10           17.07  \n",
       "4            5/10           12.29  "
      ]
     },
     "execution_count": 2,
     "metadata": {},
     "output_type": "execute_result"
    }
   ],
   "source": [
    "# Load your dataset\n",
    "df = pd.read_csv('C:\\\\Users\\\\Admin\\\\Downloads\\\\electric_mopeds\\\\electric_bike_ratings_2212.csv')\n",
    "df.head()\n",
    "\n"
   ]
  },
  {
   "cell_type": "code",
   "execution_count": 3,
   "id": "743d143e",
   "metadata": {},
   "outputs": [],
   "source": [
    "import re\n",
    "# Preprocess 'review_month' column\n",
    "df['review_month'] = df['review_month'].apply(lambda x: re.findall(r'\\b\\w{3}\\b', x)[0] \n",
    "if re.findall(r'\\b\\w{3}\\b', x) else x)"
   ]
  },
  {
   "cell_type": "code",
   "execution_count": 4,
   "id": "2f46a0a8",
   "metadata": {},
   "outputs": [
    {
     "name": "stdout",
     "output_type": "stream",
     "text": [
      "make_model mapping: {'Hoang-Eyden': 0, 'Hoang-Keetra': 1, 'Lunna-Eyden': 2, 'Lunna-Keetra': 3, 'Nielah-Eyden': 4, 'Nielah-Keetra': 5}\n",
      "review_month mapping: {'Apr': 0, 'Aug': 1, 'Dec': 2, 'Feb': 3, 'Jan': 4, 'Jul': 5, 'Jun': 6, 'Mar': 7, 'May': 8, 'Nov': 9, 'Oct': 10, 'Sep': 11}\n",
      "web_browser mapping: {'Android': 0, 'Chrome': 1, 'Firefox': 2, 'IE': 3, 'Opera': 4, 'Safari': 5, nan: 6}\n",
      "reviewer_age mapping: {'-': 0, '16': 1, '17': 2, '18': 3, '19': 4, '20': 5, '21': 6, '22': 7, '23': 8, '24': 9, '25': 10, '26': 11, '27': 12, '28': 13, '29': 14, '30': 15, '31': 16, '32': 17, '33': 18, '34': 19, '35': 20, '36': 21, '37': 22, '38': 23, '39': 24, '40': 25, '41': 26, '42': 27, '43': 28, '44': 29, '45': 30, '46': 31, '47': 32, '48': 33, '49': 34, '50': 35}\n",
      "primary_use mapping: {'Commuting': 0, 'Leisure': 1}\n",
      "value_for_money mapping: {'1/10': 0, '10/10': 1, '2/10': 2, '3/10': 3, '4/10': 4, '5/10': 5, '6/10': 6, '7/10': 7, '8/10': 8, '9/10': 9}\n"
     ]
    }
   ],
   "source": [
    "# Create a label (category) encoder object\n",
    "le = LabelEncoder()\n",
    "\n",
    "# Fit and transform the columns\n",
    "for column in df.columns:\n",
    "    if df[column].dtype == type(object):\n",
    "        df[column] = le.fit_transform(df[column])\n",
    "        print(f'{column} mapping: {dict(zip(le.classes_, le.transform(le.classes_)))}')\n",
    "\n",
    "# Now df has all numeric columns\n"
   ]
  },
  {
   "cell_type": "code",
   "execution_count": 5,
   "id": "85cc39fd",
   "metadata": {},
   "outputs": [],
   "source": [
    "\n",
    "# Export the DataFrame to a csv file\n",
    "df.to_csv('converted_to_numerical_data.csv', index=False)"
   ]
  }
 ],
 "metadata": {
  "kernelspec": {
   "display_name": "Python 3 (ipykernel)",
   "language": "python",
   "name": "python3"
  },
  "language_info": {
   "codemirror_mode": {
    "name": "ipython",
    "version": 3
   },
   "file_extension": ".py",
   "mimetype": "text/x-python",
   "name": "python",
   "nbconvert_exporter": "python",
   "pygments_lexer": "ipython3",
   "version": "3.11.4"
  }
 },
 "nbformat": 4,
 "nbformat_minor": 5
}
